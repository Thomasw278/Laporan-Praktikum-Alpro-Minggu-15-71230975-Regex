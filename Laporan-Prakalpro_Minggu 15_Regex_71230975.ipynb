{
 "cells": [
  {
   "cell_type": "code",
   "execution_count": 1,
   "id": "a398a252",
   "metadata": {},
   "outputs": [
    {
     "name": "stdout",
     "output_type": "stream",
     "text": [
      "1945-08-17 00:00:00 selisih 28778 hari\n",
      "1785-11-11 00:00:00 selisih 87130 hari\n",
      "1783-06-08 00:00:00 selisih 88017 hari\n",
      "1889-05-02 00:00:00 selisih 49338 hari\n"
     ]
    }
   ],
   "source": [
    "import re\n",
    "import datetime\n",
    "a = open(\"Soal_Regex.txt\")\n",
    "baca = a.read()\n",
    "buka = re.findall(r'\\d+-\\d+-\\d+',baca)\n",
    "for i in buka:\n",
    "    jam = datetime.datetime.now()\n",
    "    tahun = str(jam.year)\n",
    "    bulan = str(jam.month)\n",
    "    hari = str(jam.day)\n",
    "    t1 = (tahun)+\"-\"+(bulan)+\"-\"+(hari)\n",
    "    t2 = datetime.datetime.strptime(t1, \"%Y-%m-%d\")\n",
    "    t3 = datetime.datetime.strptime(i, \"%Y-%m-%d\")\n",
    "    selisih = (t2 - t3)\n",
    "    ambil_selisih = selisih.days\n",
    "    print (f\"{t3} selisih {ambil_selisih} hari\")"
   ]
  },
  {
   "cell_type": "code",
   "execution_count": 2,
   "id": "26703f2c",
   "metadata": {},
   "outputs": [
    {
     "name": "stdout",
     "output_type": "stream",
     "text": [
      "anton@mail.com username: anton , password: AErYdRoZ\n",
      "budi@gmail.co.id username: budi , password: V0SlQ8dq\n",
      "slamet@getnada.com username: slamet , password: wPyvN2lC\n",
      "matahari@tokopedia.com username: matahari , password: LIgMIViG\n"
     ]
    }
   ],
   "source": [
    "import re\n",
    "import string\n",
    "import random\n",
    "a = open(\"Soal_Regex.txt\")\n",
    "baca = a.read()\n",
    "buka = re.findall(r'.+@.+', baca)\n",
    "akhir = {}\n",
    "for i in buka:\n",
    "    email = i.split()[0]\n",
    "    username = email.split('@')[0]\n",
    "    huruf = string.ascii_letters + string.digits \n",
    "    password = \"\"\n",
    "    for j in range(8):\n",
    "        password += random.choice(huruf)\n",
    "    akhir[email] = (username, password)\n",
    "for email, (username, password) in akhir.items():\n",
    "    print(f\"{email} username: {username} , password: {password}\")"
   ]
  }
 ],
 "metadata": {
  "kernelspec": {
   "display_name": "Python 3 (ipykernel)",
   "language": "python",
   "name": "python3"
  },
  "language_info": {
   "codemirror_mode": {
    "name": "ipython",
    "version": 3
   },
   "file_extension": ".py",
   "mimetype": "text/x-python",
   "name": "python",
   "nbconvert_exporter": "python",
   "pygments_lexer": "ipython3",
   "version": "3.11.5"
  }
 },
 "nbformat": 4,
 "nbformat_minor": 5
}
